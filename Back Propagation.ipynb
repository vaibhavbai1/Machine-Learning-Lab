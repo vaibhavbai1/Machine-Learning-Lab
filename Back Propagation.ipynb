{
 "cells": [
  {
   "cell_type": "code",
   "execution_count": 4,
   "id": "4e38d7fa",
   "metadata": {},
   "outputs": [],
   "source": [
    "import numpy as np # linear algebra\n",
    "import pandas as pd\n",
    "import matplotlib.pyplot as plt\n",
    "%matplotlib inline \n",
    "import seaborn as sns"
   ]
  },
  {
   "cell_type": "code",
   "execution_count": 5,
   "id": "01011eb6",
   "metadata": {},
   "outputs": [],
   "source": [
    "df = pd.read_csv('Dataset_spine.csv')"
   ]
  },
  {
   "cell_type": "code",
   "execution_count": 6,
   "id": "053f6018",
   "metadata": {},
   "outputs": [],
   "source": [
    "df = df.drop(['Unnamed: 13'], axis=1)"
   ]
  },
  {
   "cell_type": "code",
   "execution_count": 7,
   "id": "6e37a2ee",
   "metadata": {},
   "outputs": [
    {
     "data": {
      "text/html": [
       "<div>\n",
       "<style scoped>\n",
       "    .dataframe tbody tr th:only-of-type {\n",
       "        vertical-align: middle;\n",
       "    }\n",
       "\n",
       "    .dataframe tbody tr th {\n",
       "        vertical-align: top;\n",
       "    }\n",
       "\n",
       "    .dataframe thead th {\n",
       "        text-align: right;\n",
       "    }\n",
       "</style>\n",
       "<table border=\"1\" class=\"dataframe\">\n",
       "  <thead>\n",
       "    <tr style=\"text-align: right;\">\n",
       "      <th></th>\n",
       "      <th>Col1</th>\n",
       "      <th>Col2</th>\n",
       "      <th>Col3</th>\n",
       "      <th>Col4</th>\n",
       "      <th>Col5</th>\n",
       "      <th>Col6</th>\n",
       "      <th>Col7</th>\n",
       "      <th>Col8</th>\n",
       "      <th>Col9</th>\n",
       "      <th>Col10</th>\n",
       "      <th>Col11</th>\n",
       "      <th>Col12</th>\n",
       "      <th>Class_att</th>\n",
       "    </tr>\n",
       "  </thead>\n",
       "  <tbody>\n",
       "    <tr>\n",
       "      <th>0</th>\n",
       "      <td>63.027817</td>\n",
       "      <td>22.552586</td>\n",
       "      <td>39.609117</td>\n",
       "      <td>40.475232</td>\n",
       "      <td>98.672917</td>\n",
       "      <td>-0.254400</td>\n",
       "      <td>0.744503</td>\n",
       "      <td>12.5661</td>\n",
       "      <td>14.5386</td>\n",
       "      <td>15.30468</td>\n",
       "      <td>-28.658501</td>\n",
       "      <td>43.5123</td>\n",
       "      <td>Abnormal</td>\n",
       "    </tr>\n",
       "    <tr>\n",
       "      <th>1</th>\n",
       "      <td>39.056951</td>\n",
       "      <td>10.060991</td>\n",
       "      <td>25.015378</td>\n",
       "      <td>28.995960</td>\n",
       "      <td>114.405425</td>\n",
       "      <td>4.564259</td>\n",
       "      <td>0.415186</td>\n",
       "      <td>12.8874</td>\n",
       "      <td>17.5323</td>\n",
       "      <td>16.78486</td>\n",
       "      <td>-25.530607</td>\n",
       "      <td>16.1102</td>\n",
       "      <td>Abnormal</td>\n",
       "    </tr>\n",
       "    <tr>\n",
       "      <th>2</th>\n",
       "      <td>68.832021</td>\n",
       "      <td>22.218482</td>\n",
       "      <td>50.092194</td>\n",
       "      <td>46.613539</td>\n",
       "      <td>105.985135</td>\n",
       "      <td>-3.530317</td>\n",
       "      <td>0.474889</td>\n",
       "      <td>26.8343</td>\n",
       "      <td>17.4861</td>\n",
       "      <td>16.65897</td>\n",
       "      <td>-29.031888</td>\n",
       "      <td>19.2221</td>\n",
       "      <td>Abnormal</td>\n",
       "    </tr>\n",
       "    <tr>\n",
       "      <th>3</th>\n",
       "      <td>69.297008</td>\n",
       "      <td>24.652878</td>\n",
       "      <td>44.311238</td>\n",
       "      <td>44.644130</td>\n",
       "      <td>101.868495</td>\n",
       "      <td>11.211523</td>\n",
       "      <td>0.369345</td>\n",
       "      <td>23.5603</td>\n",
       "      <td>12.7074</td>\n",
       "      <td>11.42447</td>\n",
       "      <td>-30.470246</td>\n",
       "      <td>18.8329</td>\n",
       "      <td>Abnormal</td>\n",
       "    </tr>\n",
       "    <tr>\n",
       "      <th>4</th>\n",
       "      <td>49.712859</td>\n",
       "      <td>9.652075</td>\n",
       "      <td>28.317406</td>\n",
       "      <td>40.060784</td>\n",
       "      <td>108.168725</td>\n",
       "      <td>7.918501</td>\n",
       "      <td>0.543360</td>\n",
       "      <td>35.4940</td>\n",
       "      <td>15.9546</td>\n",
       "      <td>8.87237</td>\n",
       "      <td>-16.378376</td>\n",
       "      <td>24.9171</td>\n",
       "      <td>Abnormal</td>\n",
       "    </tr>\n",
       "  </tbody>\n",
       "</table>\n",
       "</div>"
      ],
      "text/plain": [
       "        Col1       Col2       Col3       Col4        Col5       Col6  \\\n",
       "0  63.027817  22.552586  39.609117  40.475232   98.672917  -0.254400   \n",
       "1  39.056951  10.060991  25.015378  28.995960  114.405425   4.564259   \n",
       "2  68.832021  22.218482  50.092194  46.613539  105.985135  -3.530317   \n",
       "3  69.297008  24.652878  44.311238  44.644130  101.868495  11.211523   \n",
       "4  49.712859   9.652075  28.317406  40.060784  108.168725   7.918501   \n",
       "\n",
       "       Col7     Col8     Col9     Col10      Col11    Col12 Class_att  \n",
       "0  0.744503  12.5661  14.5386  15.30468 -28.658501  43.5123  Abnormal  \n",
       "1  0.415186  12.8874  17.5323  16.78486 -25.530607  16.1102  Abnormal  \n",
       "2  0.474889  26.8343  17.4861  16.65897 -29.031888  19.2221  Abnormal  \n",
       "3  0.369345  23.5603  12.7074  11.42447 -30.470246  18.8329  Abnormal  \n",
       "4  0.543360  35.4940  15.9546   8.87237 -16.378376  24.9171  Abnormal  "
      ]
     },
     "execution_count": 7,
     "metadata": {},
     "output_type": "execute_result"
    }
   ],
   "source": [
    "df.head()"
   ]
  },
  {
   "cell_type": "code",
   "execution_count": 8,
   "id": "fa6f3a78",
   "metadata": {},
   "outputs": [],
   "source": [
    "df = df.drop(['Col7','Col8','Col9','Col10','Col11','Col12'], axis=1)"
   ]
  },
  {
   "cell_type": "code",
   "execution_count": 9,
   "id": "1bbaf970",
   "metadata": {},
   "outputs": [
    {
     "data": {
      "text/html": [
       "<div>\n",
       "<style scoped>\n",
       "    .dataframe tbody tr th:only-of-type {\n",
       "        vertical-align: middle;\n",
       "    }\n",
       "\n",
       "    .dataframe tbody tr th {\n",
       "        vertical-align: top;\n",
       "    }\n",
       "\n",
       "    .dataframe thead th {\n",
       "        text-align: right;\n",
       "    }\n",
       "</style>\n",
       "<table border=\"1\" class=\"dataframe\">\n",
       "  <thead>\n",
       "    <tr style=\"text-align: right;\">\n",
       "      <th></th>\n",
       "      <th>Col1</th>\n",
       "      <th>Col2</th>\n",
       "      <th>Col3</th>\n",
       "      <th>Col4</th>\n",
       "      <th>Col5</th>\n",
       "      <th>Col6</th>\n",
       "      <th>Class_att</th>\n",
       "    </tr>\n",
       "  </thead>\n",
       "  <tbody>\n",
       "    <tr>\n",
       "      <th>0</th>\n",
       "      <td>63.027817</td>\n",
       "      <td>22.552586</td>\n",
       "      <td>39.609117</td>\n",
       "      <td>40.475232</td>\n",
       "      <td>98.672917</td>\n",
       "      <td>-0.254400</td>\n",
       "      <td>Abnormal</td>\n",
       "    </tr>\n",
       "    <tr>\n",
       "      <th>1</th>\n",
       "      <td>39.056951</td>\n",
       "      <td>10.060991</td>\n",
       "      <td>25.015378</td>\n",
       "      <td>28.995960</td>\n",
       "      <td>114.405425</td>\n",
       "      <td>4.564259</td>\n",
       "      <td>Abnormal</td>\n",
       "    </tr>\n",
       "    <tr>\n",
       "      <th>2</th>\n",
       "      <td>68.832021</td>\n",
       "      <td>22.218482</td>\n",
       "      <td>50.092194</td>\n",
       "      <td>46.613539</td>\n",
       "      <td>105.985135</td>\n",
       "      <td>-3.530317</td>\n",
       "      <td>Abnormal</td>\n",
       "    </tr>\n",
       "    <tr>\n",
       "      <th>3</th>\n",
       "      <td>69.297008</td>\n",
       "      <td>24.652878</td>\n",
       "      <td>44.311238</td>\n",
       "      <td>44.644130</td>\n",
       "      <td>101.868495</td>\n",
       "      <td>11.211523</td>\n",
       "      <td>Abnormal</td>\n",
       "    </tr>\n",
       "    <tr>\n",
       "      <th>4</th>\n",
       "      <td>49.712859</td>\n",
       "      <td>9.652075</td>\n",
       "      <td>28.317406</td>\n",
       "      <td>40.060784</td>\n",
       "      <td>108.168725</td>\n",
       "      <td>7.918501</td>\n",
       "      <td>Abnormal</td>\n",
       "    </tr>\n",
       "  </tbody>\n",
       "</table>\n",
       "</div>"
      ],
      "text/plain": [
       "        Col1       Col2       Col3       Col4        Col5       Col6 Class_att\n",
       "0  63.027817  22.552586  39.609117  40.475232   98.672917  -0.254400  Abnormal\n",
       "1  39.056951  10.060991  25.015378  28.995960  114.405425   4.564259  Abnormal\n",
       "2  68.832021  22.218482  50.092194  46.613539  105.985135  -3.530317  Abnormal\n",
       "3  69.297008  24.652878  44.311238  44.644130  101.868495  11.211523  Abnormal\n",
       "4  49.712859   9.652075  28.317406  40.060784  108.168725   7.918501  Abnormal"
      ]
     },
     "execution_count": 9,
     "metadata": {},
     "output_type": "execute_result"
    }
   ],
   "source": [
    "df.head()"
   ]
  },
  {
   "cell_type": "code",
   "execution_count": 10,
   "id": "06003a80",
   "metadata": {},
   "outputs": [],
   "source": [
    "from sklearn.neural_network import MLPClassifier\n",
    "from sklearn.model_selection import train_test_split\n",
    "from sklearn.metrics import accuracy_score\n",
    "from sklearn.metrics import confusion_matrix"
   ]
  },
  {
   "cell_type": "code",
   "execution_count": 11,
   "id": "7e487098",
   "metadata": {},
   "outputs": [],
   "source": [
    "y = df['Class_att']\n",
    "x = df.drop(['Class_att'], axis=1)"
   ]
  },
  {
   "cell_type": "code",
   "execution_count": 12,
   "id": "53530826",
   "metadata": {},
   "outputs": [],
   "source": [
    "x_train, x_test, y_train, y_test = train_test_split(x,y, test_size= 0.25, random_state=27)"
   ]
  },
  {
   "cell_type": "code",
   "execution_count": 13,
   "id": "18f2c601",
   "metadata": {},
   "outputs": [],
   "source": [
    "clf = MLPClassifier(hidden_layer_sizes=(100,100,100), max_iter=500, alpha=0.0001,\n",
    "                     solver='sgd', verbose=10,  random_state=21,tol=0.000000001)"
   ]
  },
  {
   "cell_type": "code",
   "execution_count": 14,
   "id": "d7ef3fa9",
   "metadata": {},
   "outputs": [
    {
     "name": "stdout",
     "output_type": "stream",
     "text": [
      "Iteration 1, loss = 4.76853521\n",
      "Iteration 2, loss = 8.73610235\n",
      "Iteration 3, loss = 1.55562179\n",
      "Iteration 4, loss = 0.94416556\n",
      "Iteration 5, loss = 1.50851327\n",
      "Iteration 6, loss = 0.50784081\n",
      "Iteration 7, loss = 0.39918410\n",
      "Iteration 8, loss = 0.37867398\n",
      "Iteration 9, loss = 0.37472479\n",
      "Iteration 10, loss = 0.34567928\n",
      "Iteration 11, loss = 0.34293793\n",
      "Iteration 12, loss = 0.33180054\n",
      "Iteration 13, loss = 0.33138624\n",
      "Iteration 14, loss = 0.32280653\n",
      "Iteration 15, loss = 0.32238711\n",
      "Iteration 16, loss = 0.33164385\n",
      "Iteration 17, loss = 0.31229600\n",
      "Iteration 18, loss = 0.30823387\n",
      "Iteration 19, loss = 0.32317560\n",
      "Iteration 20, loss = 0.30697614\n",
      "Iteration 21, loss = 0.30901736\n",
      "Iteration 22, loss = 0.35327698\n",
      "Iteration 23, loss = 0.31835192\n",
      "Iteration 24, loss = 0.30599160\n",
      "Iteration 25, loss = 0.30315921\n",
      "Iteration 26, loss = 0.30774646\n",
      "Iteration 27, loss = 0.30939928\n",
      "Iteration 28, loss = 0.30205629\n",
      "Iteration 29, loss = 0.30492366\n",
      "Iteration 30, loss = 0.30627954\n",
      "Iteration 31, loss = 0.32245209\n",
      "Iteration 32, loss = 0.30092367\n",
      "Iteration 33, loss = 0.32289947\n",
      "Iteration 34, loss = 0.30300054\n",
      "Iteration 35, loss = 0.29623179\n",
      "Iteration 36, loss = 0.29708219\n",
      "Iteration 37, loss = 0.30250871\n",
      "Iteration 38, loss = 0.29467717\n",
      "Iteration 39, loss = 0.29677633\n",
      "Iteration 40, loss = 0.29248421\n",
      "Iteration 41, loss = 0.29520714\n",
      "Iteration 42, loss = 0.34293079\n",
      "Iteration 43, loss = 0.29191404\n",
      "Iteration 44, loss = 0.29066025\n",
      "Iteration 45, loss = 0.29314507\n",
      "Iteration 46, loss = 0.30713375\n",
      "Iteration 47, loss = 0.28961352\n",
      "Iteration 48, loss = 0.29269266\n",
      "Iteration 49, loss = 0.35675684\n",
      "Iteration 50, loss = 0.29497979\n",
      "Iteration 51, loss = 0.32161702\n",
      "Iteration 52, loss = 0.31725676\n",
      "Iteration 53, loss = 0.28841341\n",
      "Iteration 54, loss = 0.32379049\n",
      "Iteration 55, loss = 0.30023310\n",
      "Iteration 56, loss = 0.30758373\n",
      "Iteration 57, loss = 0.29833024\n",
      "Iteration 58, loss = 0.30977012\n",
      "Iteration 59, loss = 0.28748498\n",
      "Iteration 60, loss = 0.30416906\n",
      "Iteration 61, loss = 0.31005774\n",
      "Iteration 62, loss = 0.29357602\n",
      "Iteration 63, loss = 0.29838988\n",
      "Iteration 64, loss = 0.28817921\n",
      "Iteration 65, loss = 0.31316590\n",
      "Iteration 66, loss = 0.28847521\n",
      "Iteration 67, loss = 0.28735284\n",
      "Iteration 68, loss = 0.29273707\n",
      "Iteration 69, loss = 0.31120553\n",
      "Iteration 70, loss = 0.28602647\n",
      "Iteration 71, loss = 0.28878231\n",
      "Iteration 72, loss = 0.28673847\n",
      "Iteration 73, loss = 0.29844198\n",
      "Iteration 74, loss = 0.28573291\n",
      "Iteration 75, loss = 0.28849915\n",
      "Iteration 76, loss = 0.30711551\n",
      "Iteration 77, loss = 0.28537053\n",
      "Iteration 78, loss = 0.28906500\n",
      "Iteration 79, loss = 0.31497841\n",
      "Iteration 80, loss = 0.32441142\n",
      "Iteration 81, loss = 0.30927713\n",
      "Iteration 82, loss = 0.28468929\n",
      "Iteration 83, loss = 0.28284050\n",
      "Iteration 84, loss = 0.28486940\n",
      "Iteration 85, loss = 0.28324834\n",
      "Iteration 86, loss = 0.28635970\n",
      "Iteration 87, loss = 0.28255922\n",
      "Iteration 88, loss = 0.28968301\n",
      "Iteration 89, loss = 0.28914169\n",
      "Iteration 90, loss = 0.41232697\n",
      "Iteration 91, loss = 0.33779084\n",
      "Iteration 92, loss = 0.30298213\n",
      "Iteration 93, loss = 0.29320069\n",
      "Iteration 94, loss = 0.28770790\n",
      "Iteration 95, loss = 0.29386661\n",
      "Iteration 96, loss = 0.30271605\n",
      "Iteration 97, loss = 0.31373311\n",
      "Iteration 98, loss = 0.28213563\n",
      "Iteration 99, loss = 0.32039083\n",
      "Iteration 100, loss = 0.28225381\n",
      "Iteration 101, loss = 0.28239536\n",
      "Iteration 102, loss = 0.28888423\n",
      "Iteration 103, loss = 0.40146253\n",
      "Iteration 104, loss = 0.28481547\n",
      "Iteration 105, loss = 0.28301174\n",
      "Iteration 106, loss = 0.28824478\n",
      "Iteration 107, loss = 0.28220960\n",
      "Iteration 108, loss = 0.29126322\n",
      "Iteration 109, loss = 0.28446019\n",
      "Training loss did not improve more than tol=0.000000 for 10 consecutive epochs. Stopping.\n"
     ]
    }
   ],
   "source": [
    "clf.fit(x_train, y_train)\n",
    "y_pred = clf.predict(x_test)\n",
    "\n"
   ]
  },
  {
   "cell_type": "code",
   "execution_count": 15,
   "id": "58b42060",
   "metadata": {},
   "outputs": [
    {
     "data": {
      "text/plain": [
       "0.7948717948717948"
      ]
     },
     "execution_count": 15,
     "metadata": {},
     "output_type": "execute_result"
    }
   ],
   "source": [
    "accuracy_score(y_test, y_pred)"
   ]
  },
  {
   "cell_type": "code",
   "execution_count": 16,
   "id": "70af9d67",
   "metadata": {},
   "outputs": [
    {
     "data": {
      "text/plain": [
       "array([[40, 13],\n",
       "       [ 3, 22]], dtype=int64)"
      ]
     },
     "execution_count": 16,
     "metadata": {},
     "output_type": "execute_result"
    }
   ],
   "source": [
    "cm = confusion_matrix(y_test, y_pred)\n",
    "cm"
   ]
  },
  {
   "cell_type": "code",
   "execution_count": 17,
   "id": "a57d45b1",
   "metadata": {},
   "outputs": [
    {
     "data": {
      "image/png": "[encoded data removed]",
      "text/plain": [
       "<Figure size 432x288 with 2 Axes>"
      ]
     },
     "metadata": {
      "needs_background": "light"
     },
     "output_type": "display_data"
    }
   ],
   "source": [
    "sns.heatmap(cm, center=True)\n",
    "plt.show()"
   ]
  },
  {
   "cell_type": "code",
   "execution_count": null,
   "id": "174fc5db",
   "metadata": {},
   "outputs": [],
   "source": []
  }
 ],
 "metadata": {
  "kernelspec": {
   "display_name": "Python 3 (ipykernel)",
   "language": "python",
   "name": "python3"
  },
  "language_info": {
   "codemirror_mode": {
    "name": "ipython",
    "version": 3
   },
   "file_extension": ".py",
   "mimetype": "text/x-python",
   "name": "python",
   "nbconvert_exporter": "python",
   "pygments_lexer": "ipython3",
   "version": "3.9.7"
  }
 },
 "nbformat": 4,
 "nbformat_minor": 5
}
