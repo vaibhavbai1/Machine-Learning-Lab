{
 "cells": [
  {
   "cell_type": "code",
   "execution_count": 1,
   "id": "ba51726e",
   "metadata": {},
   "outputs": [
    {
     "name": "stdout",
     "output_type": "stream",
     "text": [
      "      time weather      temp company humidity    wind goes\n",
      "0  morning   sunny       wam     yes     mild   stong  yes\n",
      "1  evening   rainy      cold      no     mild  normal   no\n",
      "2  morning   sunny  moderate     yes   normal  normal  yes\n",
      "3  evening   sunny      cold     yes     high   stong  yes\n"
     ]
    }
   ],
   "source": [
    "import pandas as pd\n",
    "df = pd.read_csv('weather.csv')\n",
    "\n",
    "print(df) \n"
   ]
  },
  {
   "cell_type": "code",
   "execution_count": 2,
   "id": "46798c4a",
   "metadata": {},
   "outputs": [
    {
     "data": {
      "text/plain": [
       "[{'time': 'morning',\n",
       "  'weather': 'sunny',\n",
       "  'temp': 'wam',\n",
       "  'company': 'yes',\n",
       "  'humidity': 'mild',\n",
       "  'wind': 'stong',\n",
       "  'goes': 'yes'},\n",
       " {'time': 'evening',\n",
       "  'weather': 'rainy',\n",
       "  'temp': 'cold',\n",
       "  'company': 'no',\n",
       "  'humidity': 'mild',\n",
       "  'wind': 'normal',\n",
       "  'goes': 'no'},\n",
       " {'time': 'morning',\n",
       "  'weather': 'sunny',\n",
       "  'temp': 'moderate',\n",
       "  'company': 'yes',\n",
       "  'humidity': 'normal',\n",
       "  'wind': 'normal',\n",
       "  'goes': 'yes'},\n",
       " {'time': 'evening',\n",
       "  'weather': 'sunny',\n",
       "  'temp': 'cold',\n",
       "  'company': 'yes',\n",
       "  'humidity': 'high',\n",
       "  'wind': 'stong',\n",
       "  'goes': 'yes'}]"
      ]
     },
     "execution_count": 2,
     "metadata": {},
     "output_type": "execute_result"
    }
   ],
   "source": [
    "dict_data = df.to_dict(orient=\"records\")\n",
    "dict_data\n"
   ]
  },
  {
   "cell_type": "code",
   "execution_count": 3,
   "id": "daebe618",
   "metadata": {},
   "outputs": [
    {
     "data": {
      "text/plain": [
       "[{'time': 'morning',\n",
       "  'weather': 'sunny',\n",
       "  'temp': 'wam',\n",
       "  'company': 'yes',\n",
       "  'humidity': 'mild',\n",
       "  'wind': 'stong',\n",
       "  'goes': 'yes'}]"
      ]
     },
     "execution_count": 3,
     "metadata": {},
     "output_type": "execute_result"
    }
   ],
   "source": [
    "hypo=[]\n",
    "for row in dict_data:\n",
    "    if row['goes']==\"yes\":\n",
    "        hypo.append(row)\n",
    "        break\n",
    "hypo"
   ]
  },
  {
   "cell_type": "code",
   "execution_count": 4,
   "id": "703584eb",
   "metadata": {},
   "outputs": [],
   "source": [
    "temp={}\n",
    "n=0"
   ]
  },
  {
   "cell_type": "code",
   "execution_count": 5,
   "id": "bb1adf7e",
   "metadata": {},
   "outputs": [],
   "source": [
    "for r in dict_data:\n",
    "    if r['goes']==\"yes\":\n",
    "        for col in r:\n",
    "            if r[col]==hypo[n][col]:\n",
    "                temp[col]=r[col]\n",
    "            else:\n",
    "                temp[col]='?'\n",
    "        n+=1\n",
    "        hypo.append(temp)\n",
    "     "
   ]
  },
  {
   "cell_type": "code",
   "execution_count": 6,
   "id": "9a37945c",
   "metadata": {},
   "outputs": [
    {
     "name": "stdout",
     "output_type": "stream",
     "text": [
      "{'time': '?', 'weather': 'sunny', 'temp': '?', 'company': 'yes', 'humidity': '?', 'wind': '?', 'goes': 'yes'}\n"
     ]
    }
   ],
   "source": [
    "print(hypo[-1])"
   ]
  }
 ],
 "metadata": {
  "kernelspec": {
   "display_name": "Python 3 (ipykernel)",
   "language": "python",
   "name": "python3"
  },
  "language_info": {
   "codemirror_mode": {
    "name": "ipython",
    "version": 3
   },
   "file_extension": ".py",
   "mimetype": "text/x-python",
   "name": "python",
   "nbconvert_exporter": "python",
   "pygments_lexer": "ipython3",
   "version": "3.9.7"
  }
 },
 "nbformat": 4,
 "nbformat_minor": 5
}
