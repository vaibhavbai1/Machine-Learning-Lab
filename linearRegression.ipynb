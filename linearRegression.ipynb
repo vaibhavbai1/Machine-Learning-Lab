{
 "cells": [
  {
   "cell_type": "code",
   "execution_count": 1,
   "id": "6ab20ea1",
   "metadata": {},
   "outputs": [],
   "source": [
    "import numpy as np\n",
    "import pandas as pd\n",
    "\n",
    "# importing matplotlib module \n",
    "from matplotlib import pyplot as plt\n",
    "import matplotlib.pyplot as plt\n",
    "from sklearn import linear_model\n",
    "from sklearn.linear_model import LinearRegression\n",
    "from sklearn.model_selection import train_test_split\n",
    "from sklearn.metrics import mean_squared_error,r2_score\n",
    "from sklearn.metrics import confusion_matrix\n",
    "from sklearn.metrics import accuracy_score\n",
    "from sklearn.metrics import classification_report"
   ]
  },
  {
   "cell_type": "code",
   "execution_count": 2,
   "id": "501d484b",
   "metadata": {},
   "outputs": [
    {
     "name": "stdout",
     "output_type": "stream",
     "text": [
      "     SAT   GPA\n",
      "0   1714  2.40\n",
      "1   1664  2.52\n",
      "2   1760  2.54\n",
      "3   1685  2.74\n",
      "4   1693  2.83\n",
      "..   ...   ...\n",
      "79  1936  3.71\n",
      "80  1810  3.71\n",
      "81  1987  3.73\n",
      "82  1962  3.76\n",
      "83  2050  3.81\n",
      "\n",
      "[84 rows x 2 columns]\n"
     ]
    }
   ],
   "source": [
    "Dataset=pd.read_csv('satgpa.csv')\n",
    "print(Dataset)"
   ]
  },
  {
   "cell_type": "code",
   "execution_count": 3,
   "id": "eb10bac6",
   "metadata": {},
   "outputs": [
    {
     "name": "stdout",
     "output_type": "stream",
     "text": [
      "Independent Variable is:\n",
      "      SAT\n",
      "0   1714\n",
      "1   1664\n",
      "2   1760\n",
      "3   1685\n",
      "4   1693\n",
      "..   ...\n",
      "79  1936\n",
      "80  1810\n",
      "81  1987\n",
      "82  1962\n",
      "83  2050\n",
      "\n",
      "[84 rows x 1 columns]\n",
      "Dependent variable is:\n",
      " 0     2.40\n",
      "1     2.52\n",
      "2     2.54\n",
      "3     2.74\n",
      "4     2.83\n",
      "      ... \n",
      "79    3.71\n",
      "80    3.71\n",
      "81    3.73\n",
      "82    3.76\n",
      "83    3.81\n",
      "Name: GPA, Length: 84, dtype: float64\n"
     ]
    }
   ],
   "source": [
    "x=Dataset.iloc[:,:1]\n",
    "y=Dataset.iloc[:,-1]\n",
    "print(\"Independent Variable is:\\n\",x)\n",
    "print(\"Dependent variable is:\\n\",y)\n"
   ]
  },
  {
   "cell_type": "code",
   "execution_count": 4,
   "id": "e2554be8",
   "metadata": {},
   "outputs": [
    {
     "name": "stdout",
     "output_type": "stream",
     "text": [
      "LinearRegression()\n"
     ]
    }
   ],
   "source": [
    "x_train, x_test, y_train, y_test = train_test_split(x, y, test_size=0.4, random_state=4)\n",
    "lm = linear_model.LinearRegression()\n",
    "model = lm.fit(x_train,y_train)\n",
    "print(model)"
   ]
  },
  {
   "cell_type": "code",
   "execution_count": 5,
   "id": "5c7f839f",
   "metadata": {},
   "outputs": [
    {
     "name": "stdout",
     "output_type": "stream",
     "text": [
      "80    3.71\n",
      "63    3.51\n",
      "19    3.19\n",
      "37    3.34\n",
      "66    3.52\n",
      "47    3.40\n",
      "68    3.58\n",
      "35    3.31\n",
      "70    3.59\n",
      "5     2.91\n",
      "20    3.19\n",
      "54    3.44\n",
      "59    3.48\n",
      "14    3.12\n",
      "60    3.49\n",
      "29    3.28\n",
      "4     2.83\n",
      "48    3.41\n",
      "16    3.17\n",
      "26    3.28\n",
      "79    3.71\n",
      "27    3.28\n",
      "10    3.02\n",
      "13    3.08\n",
      "7     3.00\n",
      "6     3.00\n",
      "18    3.17\n",
      "24    3.24\n",
      "41    3.38\n",
      "11    3.07\n",
      "73    3.60\n",
      "43    3.39\n",
      "22    3.20\n",
      "65    3.52\n",
      "Name: GPA, dtype: float64\n",
      "y_prediction\n",
      "[3.26791735 3.65711846 3.22748087 3.51053623 3.33531148 3.51390593\n",
      " 3.35384487 3.33362663 3.47515431 3.03203789 3.18535954 3.38417223\n",
      " 3.40439047 3.20557778 3.52738476 3.2409597  3.07078952 3.34710546\n",
      " 3.17525042 3.22916573 3.48020887 3.28645074 3.14155335 3.10280173\n",
      " 3.1904141  3.1904141  3.32183266 3.54423329 3.33531148 3.20894749\n",
      " 3.47683916 3.0859532  3.02024392 3.30498412]\n"
     ]
    }
   ],
   "source": [
    "y_pred = model.predict(x_test)\n",
    "print(y_test)\n",
    "print(\"y_prediction\")\n",
    "print(y_pred)\n"
   ]
  },
  {
   "cell_type": "code",
   "execution_count": 6,
   "id": "c3e9b803",
   "metadata": {},
   "outputs": [
    {
     "data": {
      "image/png": "[encoded data removed]",
      "text/plain": [
       "<Figure size 432x288 with 1 Axes>"
      ]
     },
     "metadata": {
      "needs_background": "light"
     },
     "output_type": "display_data"
    }
   ],
   "source": [
    "plt.scatter(x_test,y_test, color='g', linewidth = 2,  label = 'line_1')\n",
    "plt.plot(x_test,y_pred, color='r', linewidth = 2,  label = 'line_1')\n",
    "plt.show()"
   ]
  },
  {
   "cell_type": "code",
   "execution_count": 7,
   "id": "639c8b66",
   "metadata": {},
   "outputs": [
    {
     "name": "stdout",
     "output_type": "stream",
     "text": [
      "\n",
      " Coefficients : \n",
      " [0.00168485]\n",
      "Mean Squared Error : 0.03\n",
      "Coefficient of determination : 0.46\n"
     ]
    }
   ],
   "source": [
    "print('\\n Coefficients : \\n', model.coef_)\n",
    "print('Mean Squared Error : %.2f' % mean_squared_error(y_test, y_pred))\n",
    "print('Coefficient of determination : %.2f' % r2_score(y_test,y_pred))\n"
   ]
  }
 ],
 "metadata": {
  "kernelspec": {
   "display_name": "Python 3 (ipykernel)",
   "language": "python",
   "name": "python3"
  },
  "language_info": {
   "codemirror_mode": {
    "name": "ipython",
    "version": 3
   },
   "file_extension": ".py",
   "mimetype": "text/x-python",
   "name": "python",
   "nbconvert_exporter": "python",
   "pygments_lexer": "ipython3",
   "version": "3.9.7"
  }
 },
 "nbformat": 4,
 "nbformat_minor": 5
}
